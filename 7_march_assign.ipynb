{
 "cells": [
  {
   "cell_type": "code",
   "execution_count": null,
   "id": "4ca1b37f-3aa6-42b3-92a6-94c24bc95171",
   "metadata": {},
   "outputs": [],
   "source": [
    "\"\"\"Q1. What are the three measures of central tendency?\"\"\"\n",
    "\"\"\"Ans: The three measures of central tendency is :\n",
    "            1. Mean or Average\n",
    "            2. Median\n",
    "            3. Mode\n",
    "\"\"\""
   ]
  },
  {
   "cell_type": "code",
   "execution_count": null,
   "id": "b8ae2de2-6f6f-4401-964f-e95bee80d17e",
   "metadata": {},
   "outputs": [],
   "source": [
    "\"\"\"Q2. What is the difference between the mean, median, and mode? How are they used to measure the central tendency of a dataset?\n",
    "\n",
    "    Ans: The mean is the average value of a set of numbers, obtained by adding up all the numbers and dividing by how many numbers \n",
    "         there are.\n",
    "         The median is the middle value of a set of numbers, where half the numbers are above it and half are below it.\n",
    "         The mode is the number that appears most frequently in a set of numbers.\n",
    "         \n",
    "         All three measures of central tendency are useful in different contexts, and it's important to choose the right one for \n",
    "         your analysis depending on the type of data you're working with and the question you're trying to answer.\n",
    "\"\"\""
   ]
  },
  {
   "cell_type": "code",
   "execution_count": 7,
   "id": "dc9b6750-645c-4bcf-941b-c5a42007816f",
   "metadata": {},
   "outputs": [
    {
     "name": "stdout",
     "output_type": "stream",
     "text": [
      "mean : 177.01875\n",
      "median : 177.0\n",
      "modee : ModeResult(mode=array([177.]), count=array([3]))\n"
     ]
    },
    {
     "name": "stderr",
     "output_type": "stream",
     "text": [
      "/tmp/ipykernel_77/1710954751.py:10: FutureWarning: Unlike other reduction functions (e.g. `skew`, `kurtosis`), the default behavior of `mode` typically preserves the axis it acts along. In SciPy 1.11.0, this behavior will change: the default value of `keepdims` will become False, the `axis` over which the statistic is taken will be eliminated, and the value None will no longer be accepted. Set `keepdims` to True or False to avoid this warning.\n",
      "  print(f\"modee : {s.mode(heights)}\")\n"
     ]
    }
   ],
   "source": [
    "\"\"\"Q3. Measure the three measures of central tendency for the given height data:\n",
    "[178,177,176,177,178.2,178,175,179,180,175,178.9,176.2,177,172.5,178,176.5]\"\"\"\n",
    "\n",
    "import numpy as np\n",
    "import scipy.stats as s\n",
    "heights = [178,177,176,177,178.2,178,175,179,180,175,178.9,176.2,177,172.5,178,176.5]\n",
    "\n",
    "print(f\"mean : {np.mean(heights)}\")\n",
    "print(f\"median : {np.median(heights)}\")\n",
    "print(f\"modee : {s.mode(heights)}\")"
   ]
  },
  {
   "cell_type": "code",
   "execution_count": 8,
   "id": "5a771ff9-37cb-4e3c-961c-0e0c409a02c7",
   "metadata": {},
   "outputs": [
    {
     "name": "stdout",
     "output_type": "stream",
     "text": [
      "Standard Deviation : 1.7885814036548633\n"
     ]
    }
   ],
   "source": [
    "\"\"\"Q4. Find the standard deviation for the given data:\n",
    "[178,177,176,177,178.2,178,175,179,180,175,178.9,176.2,177,172.5,178,176.5]\"\"\"\n",
    "\n",
    "data = [178,177,176,177,178.2,178,175,179,180,175,178.9,176.2,177,172.5,178,176.5]\n",
    "print(f\"Standard Deviation : {np.std(data)}\")"
   ]
  },
  {
   "cell_type": "code",
   "execution_count": null,
   "id": "0e5b71b5-239d-471e-a024-830c07114bb5",
   "metadata": {},
   "outputs": [],
   "source": [
    "\"\"\"Q5. How are measures of dispersion such as range, variance, and standard deviation used to describe the spread of a dataset? \n",
    "        Provide an example.\n",
    "        \n",
    "    Ans: Measures of dispersion, such as range, variance, and standard deviation, are used to describe how spread out or variable a dataset is.\n",
    "         The range is the difference between the highest and lowest values in a dataset. It gives you a rough idea of how spread out \n",
    "         the data is, but doesn't take into account the distribution of the data.\n",
    "         The variance is a measure of how much the individual data points deviate from the mean. It takes into account the \n",
    "         distribution of the data and provides a more precise measure of variability. A high variance means that the data \n",
    "         points are spread out over a wider range of values, while a low variance means they are clustered closer to the mean.\n",
    "         The standard deviation is the square root of the variance and is often used instead of variance because it is in the same \n",
    "         units as the original data. It tells you how much the data points deviate from the mean on average. \n",
    "         A high standard deviation means that the data points are more spread out, while a low standard deviation means they \n",
    "         are more tightly clustered around the mean.\n",
    "         For example, suppose we have the following dataset of exam scores: 70, 75, 80, 85, 90. The range would be 20 (90 - 70). \n",
    "         The mean would be 80, the variance would be 50, and the standard deviation would be approximately 7.07. This tells us \n",
    "         that the scores are relatively close to each other, with a spread of about 7 points away from the mean on average.\n",
    "\"\"\""
   ]
  },
  {
   "cell_type": "code",
   "execution_count": null,
   "id": "74997e81-50fd-4f0c-a9ed-eade3996efac",
   "metadata": {},
   "outputs": [],
   "source": [
    "\"\"\"Q6. What is a Venn diagram?\n",
    "\n",
    "    Ans: A Venn diagram is a visual tool that uses overlapping circles to show the relationships between different sets or groups. \n",
    "         Each circle represents a set, and the overlapping regions show where the sets have things in common. It helps to see how \n",
    "         different groups overlap and intersect.\n",
    "\"\"\""
   ]
  },
  {
   "cell_type": "code",
   "execution_count": null,
   "id": "7c6d45aa-d508-4f42-b95e-6ea3522cf333",
   "metadata": {},
   "outputs": [],
   "source": [
    "\"\"\"Q7. For the two given sets A = (2,3,4,5,6,7) & B = (0,2,6,8,10). Find:\n",
    "    (i) A intersection B = (2,6)\n",
    "    (ii) A ⋃ B = (0,2,3,4,5,6,7,8,10)\n",
    "    \n",
    "\"\"\""
   ]
  },
  {
   "cell_type": "code",
   "execution_count": null,
   "id": "9c704ff8-edbf-4104-9994-d8aa1cdb7048",
   "metadata": {},
   "outputs": [],
   "source": [
    "\"\"\"Q8. What do you understand about skewness in data?\n",
    "\n",
    "    Ans: Skewness in data refers to the degree to which the data is asymmetrical or lopsided. In a symmetrical distribution, \n",
    "         the data is evenly distributed on both sides of the mean. In a skewed distribution, the data is concentrated more on \n",
    "         one side of the mean than the other. This can affect the mean, median, and mode of the data.\n",
    "\"\"\""
   ]
  },
  {
   "cell_type": "code",
   "execution_count": null,
   "id": "0cb649d9-a7d1-44a5-aeed-ab5b11a0c0d9",
   "metadata": {},
   "outputs": [],
   "source": [
    "\"\"\"Q9. If a data is right skewed then what will be the position of median with respect to mean?\n",
    "    \n",
    "    Ans: median will be less than mean, because the tail of the distribution is extended toward the right, \n",
    "         causing the mean to be pulled in that direction as well.\n",
    "\"\"\""
   ]
  },
  {
   "cell_type": "code",
   "execution_count": null,
   "id": "126077f4-b0a9-4acd-93fe-fd8e3a55b36b",
   "metadata": {},
   "outputs": [],
   "source": [
    "\"\"\"Q10. Explain the difference between covariance and correlation. How are these measures used in statistical analysis?\n",
    "\n",
    "    Ans: Covariance and correlation are both measures of the relationship between two variables in a dataset, but they differ in how they are calculated and what they indicate.\n",
    "         Covariance measures the direction and strength of the linear relationship between two variables. It is calculated by taking the sum of the products of the \n",
    "         deviations of each variable from their respective means. A positive covariance indicates that the two variables move together in the same direction, \n",
    "         while a negative covariance indicates that they move in opposite directions. However, covariance does not provide a standardized measure of the relationship \n",
    "         and can be difficult to interpret because it depends on the units of the variables.\n",
    "         Correlation, on the other hand, measures the strength and direction of the linear relationship between two variables, but it is calculated by standardizing the \n",
    "         covariance by dividing it by the product of the standard deviations of the two variables. This produces a value between -1 and 1, where -1 indicates a perfect \n",
    "         negative linear relationship, 0 indicates no linear relationship, and 1 indicates a perfect positive linear relationship. Correlation is easier to interpret than \n",
    "         covariance because it is standardized and does not depend on the units of the variables.\n",
    "         \n",
    "         Both covariance and correlation are used in statistical analysis to understand the relationship between two variables. They can be used to identify patterns, \n",
    "         make predictions, and test hypotheses. However, correlation is often preferred over covariance because it provides a standardized measure of the relationship \n",
    "         that is easier to interpret and compare across different datasets.\n",
    "\n",
    "\"\"\""
   ]
  },
  {
   "cell_type": "code",
   "execution_count": null,
   "id": "b64ee5f3-1d4a-4f23-8c4f-992ee63ed9c9",
   "metadata": {},
   "outputs": [],
   "source": [
    "\"\"\"Q11. What is the formula for calculating the sample mean? Provide an example calculation for a dataset.\n",
    "\n",
    "    Ans: The formula for calculating the sample mean is:\n",
    "         sample mean = (sum of all values in the sample) / (number of values in the sample)\n",
    "         Here's an example calculation for a dataset:\n",
    "        we have the following dataset of exam scores: 70, 75, 80, 85, 90. To find the sample mean, we add up all the scores and divide by the total number of scores:\n",
    "        sample mean = (70 + 75 + 80 + 85 + 90) / 5\n",
    "        = 400 / 5\n",
    "        = 80\n",
    "        Therefore, the sample mean for this dataset is 80.\n",
    "\"\"\""
   ]
  },
  {
   "cell_type": "code",
   "execution_count": null,
   "id": "963cc5f8-8be6-40d1-8823-3d0e53f92179",
   "metadata": {},
   "outputs": [],
   "source": [
    "\"\"\"Q12. For a normal distribution data what is the relationship between its measure of central tendency?\n",
    "\n",
    "    Ans: For a normal distribution of data, the mean, median, and mode are all equal to each other. This means that the middle of the data is exactly in the \n",
    "         center of the distribution, and the data is evenly distributed around this center point.\n",
    "         imagine a bell-shaped curve. The highest point of the curve represents the mean, median, and mode of the data. If you were to cut \n",
    "         the curve at this point, each half of the curve would be a mirror image of the other.\n",
    "         This relationship between the measures of central tendency is unique to normal distributions, and it makes them useful for many applications in statistics\n",
    "         and scientific research.\n",
    "\"\"\""
   ]
  },
  {
   "cell_type": "code",
   "execution_count": null,
   "id": "2da4d0b4-1181-4000-a214-d6a7e0003c23",
   "metadata": {},
   "outputs": [],
   "source": [
    "\"\"\"Q13. How is covariance different from correlation?\n",
    "\n",
    "    Ans: Covariance and Correlation differ in a few important ways.\n",
    "         Covariance measures the direction and strength of the relationship between two variables, but it is not standardized. This means that the value of covariance can \n",
    "         be influenced by the units of measurement used for each variable.\n",
    "         On the other hand, correlation measures the strength and direction of the relationship between two variables as well, but it is standardized, meaning that \n",
    "         it is not affected by the units of measurement used for each variable. Correlation is always a value between -1 and 1, where -1 indicates a perfect negative \n",
    "         relationship, 0 indicates no relationship, and 1 indicates a perfect positive relationship.\n",
    "         Therefore, correlation is often a preferred measure over covariance because it is standardized and can be used to compare relationships between variables across \n",
    "         different datasets. In contrast, covariance is useful for identifying the direction of the relationship between two variables, but it cannot be used to compare \n",
    "         relationships across different datasets.\n",
    "\"\"\""
   ]
  },
  {
   "cell_type": "code",
   "execution_count": null,
   "id": "a12c11c9-ef96-47f7-9ae0-63b3c850385f",
   "metadata": {},
   "outputs": [],
   "source": [
    "\"\"\"Q14. How do outliers affect measures of central tendency and dispersion? Provide an example.\n",
    "\n",
    "    Ans: Outliers are extreme values that lie far away from the rest of the values in a dataset. Outliers can have a significant impact on \n",
    "         measures of central tendency and dispersion.\n",
    "         For measures of central tendency, outliers can skew the results towards the direction of the outlier. For example, if there is an outlier with a very high value \n",
    "         in a dataset, the mean will be pulled towards that high value, making it a less representative measure of the typical value in the dataset. \n",
    "         The median, on the other hand, is less affected by outliers, as it is simply the middle value of the dataset when sorted.\n",
    "         For measures of dispersion, outliers can greatly affect the range and standard deviation. The range, which is the difference between the maximum and minimum \n",
    "         values in the dataset, will be larger if there are outliers at the extremes. Similarly, the standard deviation, which measures the spread of the values \n",
    "         around the mean, will be larger if there are outliers present.\n",
    "         For example, consider a dataset of salaries for a company, with most employees making between $30,000 and $70,000, but with one executive earning $1,000,000. \n",
    "         If we calculate the mean salary for this dataset, it will be heavily influenced by the outlier, resulting in a much higher value than what is typical for most \n",
    "         employees. Similarly, if we calculate the standard deviation for this dataset, it will be much larger than what is typical, due to the extreme value of the outlier.\n",
    "\"\"\""
   ]
  }
 ],
 "metadata": {
  "kernelspec": {
   "display_name": "Python 3 (ipykernel)",
   "language": "python",
   "name": "python3"
  },
  "language_info": {
   "codemirror_mode": {
    "name": "ipython",
    "version": 3
   },
   "file_extension": ".py",
   "mimetype": "text/x-python",
   "name": "python",
   "nbconvert_exporter": "python",
   "pygments_lexer": "ipython3",
   "version": "3.10.8"
  }
 },
 "nbformat": 4,
 "nbformat_minor": 5
}
